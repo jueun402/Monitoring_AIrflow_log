{
 "cells": [
  {
   "cell_type": "code",
   "execution_count": 1,
   "id": "55b3db0b",
   "metadata": {},
   "outputs": [],
   "source": [
    "import findspark\n",
    "findspark.init() # find spark \n",
    "\n",
    "import datetime as dt\n",
    "from pyspark.sql import SparkSession\n",
    "import re\n",
    "import findspark\n",
    "import pandas as pd \n",
    "from elasticsearch import Elasticsearch\n",
    "from elasticsearch import helpers"
   ]
  },
  {
   "cell_type": "code",
   "execution_count": null,
   "id": "2e666688",
   "metadata": {},
   "outputs": [],
   "source": [
    "# ES 적재 함수 \n",
    "\n",
    "def bulk_insert(host, port, df, index):\n",
    "    es = Elasticsearch(host = host, port = port)\n",
    "\n",
    "    data = [\n",
    "      {\n",
    "        \"_index\": index,\n",
    "        \"_source\": {\n",
    "            \"datetime\": x[0],\n",
    "            \"log-level\": x[1],\n",
    "            \"message\":x[2]}\n",
    "      }\n",
    "        for x in zip(df['Datetime'],df['Status'],df['Message'])\n",
    "    ]\n",
    "\n",
    "    helpers.bulk(es, data)"
   ]
  },
  {
   "cell_type": "code",
   "execution_count": 81,
   "id": "bb1bd32a",
   "metadata": {},
   "outputs": [],
   "source": [
    "# log 파싱 함수 \n",
    "\n",
    "def parsing(logs):\n",
    "    import re\n",
    "\n",
    "    # 정규표현식 \n",
    "    regex = r\"\\[(\\d+-\\d+-\\d+) (\\d+:\\d+:\\d+,\\d+)\\] \\{\\S+\\} (DEBUG|INFO|WARN|FATAL|ERROR|TRACE) - ([^][]*)|([^][]*\\'\\S+\\')\"\n",
    "\n",
    "    # match 데이터 찾기 \n",
    "    matches = re.finditer(regex, logs, re.MULTILINE)\n",
    "\n",
    "    dict_list = []\n",
    "\n",
    "    for match in matches:\n",
    "\n",
    "        # Timestamp or Status or Message에 하나라도 값이 없으면 제거 \n",
    "        if match.group(1) and match.group(3) and  match.group(4):\n",
    "            row_ = dict()\n",
    "            row_[\"Datetime\"]= match.group(1)\n",
    "            row_[\"Status\"] = match.group(3)\n",
    "            row_[\"Message\"] = match.group(4)\n",
    "\n",
    "            dict_list.append(row_)\n",
    "    \n",
    "    return dict_list"
   ]
  },
  {
   "cell_type": "code",
   "execution_count": null,
   "id": "91edf444",
   "metadata": {},
   "outputs": [],
   "source": []
  },
  {
   "cell_type": "code",
   "execution_count": 90,
   "id": "0f25d94b",
   "metadata": {},
   "outputs": [],
   "source": [
    "# Main 함수\n",
    "\n",
    "def main():\n",
    "    \n",
    "    # Spark Session 생성 \n",
    "    spark = SparkSession.builder.master('local[2]').appName('airflow log test').getOrCreate()    \n",
    "    \n",
    "    # Data 읽기 \n",
    "    data = spark.read.text(\"error_log_ex.txt\") # change path \n",
    "    \n",
    "    # value 열에서 데이터 추출 후 string으로 형변환 \n",
    "    logs = str([item['value'] for item in data.collect()])\n",
    "\n",
    "    # 로그 파싱 \n",
    "    parseData = parsing(logs)\n",
    "\n",
    "    # pandas DataFrame 변경 \n",
    "    df = pd.DataFrame(parseData)   \n",
    "    \n",
    "    # datetime 형식 지정 \n",
    "    df[\"Datetime\"] = pd.to_datetime(df[\"Datetime\"],format=\"%Y-%m-%d %H:%M:%S\", errors = 'coerce')  \n",
    "    print(df.head()) # 데이터 확인 \n",
    "    \n",
    "    # ES 적재 \n",
    "    # bulk_insert(\"localhost\", \"9200\", df, \"airflow_log_2022-02-06\") # host, port, data, index\n"
   ]
  },
  {
   "cell_type": "code",
   "execution_count": 91,
   "id": "08b6efd5",
   "metadata": {},
   "outputs": [
    {
     "name": "stdout",
     "output_type": "stream",
     "text": [
      "    Datetime Status                                            Message\n",
      "0 2022-01-29   INFO  Dependencies all met for <TaskInstance: MySQLT...\n",
      "1 2022-01-29   INFO  Dependencies all met for <TaskInstance: MySQLT...\n",
      "2 2022-01-29   INFO  ', '------------------------------------------...\n",
      "3 2022-01-29   INFO                        Starting attempt 1 of 1', '\n",
      "4 2022-01-29   INFO  ', '------------------------------------------...\n"
     ]
    }
   ],
   "source": [
    "if __name__ == \"__main__\":\n",
    "    main()"
   ]
  },
  {
   "cell_type": "code",
   "execution_count": null,
   "id": "5bc9b381",
   "metadata": {},
   "outputs": [],
   "source": []
  }
 ],
 "metadata": {
  "kernelspec": {
   "display_name": "pipeline",
   "language": "python",
   "name": "pipeline"
  },
  "language_info": {
   "codemirror_mode": {
    "name": "ipython",
    "version": 3
   },
   "file_extension": ".py",
   "mimetype": "text/x-python",
   "name": "python",
   "nbconvert_exporter": "python",
   "pygments_lexer": "ipython3",
   "version": "3.10.1"
  }
 },
 "nbformat": 4,
 "nbformat_minor": 5
}
